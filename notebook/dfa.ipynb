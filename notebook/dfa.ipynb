{
 "cells": [
  {
   "cell_type": "markdown",
   "metadata": {},
   "source": [
    "$$\n",
    "M = (Q, \\sum, \\delta, q_0, F)\n",
    "$$\n",
    "\n",
    "$$\n",
    "Q: 状態の集合\\\\\n",
    "\\sum: アルファベット\\\\\n",
    "\\delta: 遷移関数(\\subset Q \\times \\sum \\times Q)\\\\\n",
    "q_0: \\\\\n",
    "F: \\\\\n",
    "$$"
   ]
  },
  {
   "cell_type": "code",
   "execution_count": 2,
   "metadata": {},
   "outputs": [],
   "source": [
    "class DeterministicFiniteAutomata(object):\n",
    "\n",
    "    def __init__(self, states, alphabets, transitions, init_state, final_states):\n",
    "        self.states = states\n",
    "        self.alphabets = alphabets\n",
    "        self.transitions = transitions\n",
    "        self.init_state = init_state\n",
    "        self.final_states = final_states\n",
    "    def run(self, string_val):\n",
    "        state = self.init_state\n",
    "        for char in string_val:\n",
    "            if char not in self.alphabets:\n",
    "                print(f\"Error: Invalid character {char}\")\n",
    "                return -1\n",
    "            else:\n",
    "                state = self.transitions[state][char]\n",
    "        return state in self.final_states"
   ]
  },
  {
   "cell_type": "code",
   "execution_count": 4,
   "metadata": {},
   "outputs": [],
   "source": [
    "a, b, c = range(3)\n",
    "states = {a, b, c}\n",
    "alphabets = {\"0\", \"1\"}\n",
    "transitions = {\n",
    "    a: {\"0\": a, \"1\": b},\n",
    "    b: {\"0\": c, \"1\": a},\n",
    "    c: {\"0\": b, \"1\": c},\n",
    "}\n",
    "init_state = a\n",
    "final_states = {a}\n",
    "automata = DeterministicFiniteAutomata(states, alphabets, transitions, init_state, final_states)"
   ]
  },
  {
   "cell_type": "code",
   "execution_count": null,
   "metadata": {},
   "outputs": [],
   "source": []
  }
 ],
 "metadata": {
  "kernelspec": {
   "display_name": "Python 3",
   "language": "python",
   "name": "python3"
  },
  "language_info": {
   "codemirror_mode": {
    "name": "ipython",
    "version": 3
   },
   "file_extension": ".py",
   "mimetype": "text/x-python",
   "name": "python",
   "nbconvert_exporter": "python",
   "pygments_lexer": "ipython3",
   "version": "3.8.1"
  }
 },
 "nbformat": 4,
 "nbformat_minor": 4
}
